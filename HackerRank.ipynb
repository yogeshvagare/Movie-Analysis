{
 "cells": [
  {
   "cell_type": "code",
   "execution_count": 1,
   "id": "ea1b789f",
   "metadata": {},
   "outputs": [],
   "source": [
    "n=5"
   ]
  },
  {
   "cell_type": "code",
   "execution_count": 4,
   "id": "335190ec",
   "metadata": {},
   "outputs": [
    {
     "name": "stdout",
     "output_type": "stream",
     "text": [
      "  1   1   1   1\n",
      "  2   2   2  10\n",
      "  3   3   3  11\n",
      "  4   4   4 100\n",
      "  5   5   5 101\n"
     ]
    }
   ],
   "source": [
    "width=len(bin(n)[2:])\n",
    "for i in range(1,n+1):\n",
    "    decimal=str(i).rjust(width)\n",
    "    octal=oct(i)[2:].rjust(width)\n",
    "    hexadecimal=hex(i)[2:].upper().rjust(width)\n",
    "    binary=bin(i)[2:].rjust(width)\n",
    "    print(f'{decimal} {octal} {hexadecimal} {binary}')"
   ]
  },
  {
   "cell_type": "code",
   "execution_count": 5,
   "id": "fcd04109",
   "metadata": {},
   "outputs": [
    {
     "data": {
      "text/plain": [
       "3"
      ]
     },
     "execution_count": 5,
     "metadata": {},
     "output_type": "execute_result"
    }
   ],
   "source": [
    "width"
   ]
  },
  {
   "cell_type": "code",
   "execution_count": 6,
   "id": "55024fe3",
   "metadata": {},
   "outputs": [
    {
     "data": {
      "text/plain": [
       "'0b101'"
      ]
     },
     "execution_count": 6,
     "metadata": {},
     "output_type": "execute_result"
    }
   ],
   "source": [
    "bin(n)"
   ]
  },
  {
   "cell_type": "code",
   "execution_count": 7,
   "id": "c66e0a86",
   "metadata": {},
   "outputs": [],
   "source": [
    "def print_rangoli(size):\n",
    "    # your code goes here\n",
    "    import string\n",
    "    alpha = string.ascii_lowercase\n",
    "    lines = []\n",
    "\n",
    "    for i in range(size):\n",
    "        left = '-'.join(alpha[size-1:i:-1])\n",
    "        center = alpha[i]\n",
    "        right = '-'.join(alpha[i+1:size])\n",
    "        full = (left + '-' + center + '-' + right).strip('-')\n",
    "        lines.append(full.center(4*size - 3, '-'))\n",
    "\n",
    "    print('\\n'.join(lines[::-1] + lines[1:]))"
   ]
  },
  {
   "cell_type": "code",
   "execution_count": 8,
   "id": "7af7d748",
   "metadata": {},
   "outputs": [
    {
     "name": "stdout",
     "output_type": "stream",
     "text": [
      "--------e--------\n",
      "------e-d-e------\n",
      "----e-d-c-d-e----\n",
      "--e-d-c-b-c-d-e--\n",
      "e-d-c-b-a-b-c-d-e\n",
      "--e-d-c-b-c-d-e--\n",
      "----e-d-c-d-e----\n",
      "------e-d-e------\n",
      "--------e--------\n"
     ]
    }
   ],
   "source": [
    "print_rangoli(5)"
   ]
  },
  {
   "cell_type": "code",
   "execution_count": 10,
   "id": "b14d4519",
   "metadata": {},
   "outputs": [],
   "source": [
    "import string\n",
    "alpha = string.ascii_lowercase"
   ]
  },
  {
   "cell_type": "code",
   "execution_count": 11,
   "id": "0c095c53",
   "metadata": {},
   "outputs": [
    {
     "data": {
      "text/plain": [
       "'abcdefghijklmnopqrstuvwxyz'"
      ]
     },
     "execution_count": 11,
     "metadata": {},
     "output_type": "execute_result"
    }
   ],
   "source": [
    "alpha"
   ]
  },
  {
   "cell_type": "code",
   "execution_count": 13,
   "id": "2e25b691",
   "metadata": {},
   "outputs": [],
   "source": [
    "size=5\n",
    "left = '-'.join(alpha[size-1:i:-1])\n",
    "center = alpha[i]\n",
    "right = '-'.join(alpha[i+1:size])\n",
    "full = (left + '-' + center + '-' + right).strip('-')"
   ]
  },
  {
   "cell_type": "code",
   "execution_count": 19,
   "id": "e69a60c1",
   "metadata": {},
   "outputs": [],
   "source": [
    "lines=[]\n",
    "for i in range(size):\n",
    "    left = '-'.join(alpha[size-1:i:-1])\n",
    "    center = alpha[i]\n",
    "    right = '-'.join(alpha[i+1:size])\n",
    "    full = (left + '-' + center + '-' + right).strip('-')\n",
    "    lines.append(full.center(4*size - 3, '-'))"
   ]
  },
  {
   "cell_type": "code",
   "execution_count": 20,
   "id": "f8e582a8",
   "metadata": {},
   "outputs": [
    {
     "data": {
      "text/plain": [
       "['e-d-c-b-a-b-c-d-e',\n",
       " '--e-d-c-b-c-d-e--',\n",
       " '----e-d-c-d-e----',\n",
       " '------e-d-e------',\n",
       " '--------e--------']"
      ]
     },
     "execution_count": 20,
     "metadata": {},
     "output_type": "execute_result"
    }
   ],
   "source": [
    "lines"
   ]
  },
  {
   "cell_type": "code",
   "execution_count": 31,
   "id": "92bb039a",
   "metadata": {},
   "outputs": [],
   "source": [
    "s='qiten jit'"
   ]
  },
  {
   "cell_type": "code",
   "execution_count": 32,
   "id": "1a9538de",
   "metadata": {},
   "outputs": [],
   "source": [
    "def solve(s):\n",
    "    new_name=[]\n",
    "    for i in s.split():\n",
    "        new_name.append(i.capitalize())\n",
    "        print(' '.join(new_name))"
   ]
  },
  {
   "cell_type": "code",
   "execution_count": 33,
   "id": "b0b29bb6",
   "metadata": {},
   "outputs": [
    {
     "name": "stdout",
     "output_type": "stream",
     "text": [
      "Qiten\n",
      "Qiten Jit\n"
     ]
    }
   ],
   "source": [
    "solve(s)"
   ]
  },
  {
   "cell_type": "code",
   "execution_count": 34,
   "id": "f0701400",
   "metadata": {},
   "outputs": [],
   "source": [
    "def minion_game(s):\n",
    "    vowels = 'AEIOU'\n",
    "    kevin_score = 0\n",
    "    stuart_score = 0\n",
    "    length = len(s)\n",
    "\n",
    "    for i in range(length):\n",
    "        if s[i] in vowels:\n",
    "            kevin_score += length - i\n",
    "        else:\n",
    "            stuart_score += length - i\n",
    "\n",
    "    if kevin_score > stuart_score:\n",
    "        print(\"Kevin\", kevin_score)\n",
    "    elif kevin_score < stuart_score:\n",
    "        print(\"Stuart\", stuart_score)\n",
    "    else:\n",
    "        print(\"Draw\")\n",
    "        \n"
   ]
  },
  {
   "cell_type": "code",
   "execution_count": 37,
   "id": "5f4509b2",
   "metadata": {},
   "outputs": [
    {
     "name": "stdout",
     "output_type": "stream",
     "text": [
      "Enter the string: EDUCATION\n",
      "Kevin 26\n"
     ]
    }
   ],
   "source": [
    "# Example usage:\n",
    "s = input(\"Enter the string: \").upper()\n",
    "minion_game(s)"
   ]
  },
  {
   "cell_type": "code",
   "execution_count": 38,
   "id": "b343c211",
   "metadata": {},
   "outputs": [],
   "source": [
    "def merge_the_tools(s, k):\n",
    "    for i in range(0, len(s), k):\n",
    "        ti = s[i:i + k]\n",
    "        seen = set()\n",
    "        ui = ''\n",
    "        for ch in ti:\n",
    "            if ch not in seen:\n",
    "                seen.add(ch)\n",
    "                ui += ch\n",
    "        print(ui)"
   ]
  },
  {
   "cell_type": "code",
   "execution_count": 40,
   "id": "ad3d590b",
   "metadata": {},
   "outputs": [
    {
     "name": "stdout",
     "output_type": "stream",
     "text": [
      "AB\n",
      "CA\n",
      "AD\n"
     ]
    }
   ],
   "source": [
    "merge_the_tools('AABCAAADA', 3)"
   ]
  },
  {
   "cell_type": "code",
   "execution_count": 43,
   "id": "b15e1b7c",
   "metadata": {},
   "outputs": [
    {
     "name": "stdout",
     "output_type": "stream",
     "text": [
      "0 4 5\n",
      "1 7 6\n",
      "0 5 9\n",
      "1 7 2\n",
      "8.19\n"
     ]
    }
   ],
   "source": [
    "import numpy as np\n",
    "\n",
    "def angle_between_planes(a, b, c, d):\n",
    "    AB = np.array(b) - np.array(a)\n",
    "    BC = np.array(c) - np.array(b)\n",
    "    CD = np.array(d) - np.array(c)\n",
    "    \n",
    "    X = np.cross(AB, BC)\n",
    "    Y = np.cross(BC, CD)\n",
    "    \n",
    "    cos_phi = np.dot(X, Y) / (np.linalg.norm(X) * np.linalg.norm(Y))\n",
    "    \n",
    "    # Numerical stability (in case cos_phi is slightly >1 or <-1 due to float errors)\n",
    "    cos_phi = np.clip(cos_phi, -1.0, 1.0)\n",
    "    \n",
    "    angle = np.degrees(np.arccos(cos_phi))\n",
    "    print(f\"{angle:.2f}\")\n",
    "\n",
    "# Input format:\n",
    "# 4 lines of space-separated floats for A, B, C, D\n",
    "points = [list(map(float, input().split())) for _ in range(4)]\n",
    "angle_between_planes(*points)\n",
    "# 045\n",
    "# 176\n",
    "# 059\n",
    "# 172"
   ]
  },
  {
   "cell_type": "code",
   "execution_count": 44,
   "id": "902bc8c6",
   "metadata": {},
   "outputs": [
    {
     "name": "stdout",
     "output_type": "stream",
     "text": [
      "Sun 10 May 2015 13:54:36 -0700\n",
      "Sun 10 May 2015 13:54:36 -0000\n",
      "25200\n"
     ]
    }
   ],
   "source": [
    "from datetime import datetime\n",
    "\n",
    "def time_delta(t1, t2):\n",
    "    format_str = '%a %d %b %Y %H:%M:%S %z'\n",
    "    dt1 = datetime.strptime(t1, format_str)\n",
    "    dt2 = datetime.strptime(t2, format_str)\n",
    "    delta = abs((dt1 - dt2).total_seconds())\n",
    "    return int(delta)\n",
    "\n",
    "# Example usage:\n",
    "t1 = input()\n",
    "t2 = input()\n",
    "print(time_delta(t1, t2))"
   ]
  },
  {
   "cell_type": "code",
   "execution_count": 45,
   "id": "a3927c72",
   "metadata": {},
   "outputs": [
    {
     "name": "stdout",
     "output_type": "stream",
     "text": [
      "[0-9]{1,3}(\\.[0-9]{1,3}){3}\n"
     ]
    },
    {
     "ename": "ValueError",
     "evalue": "invalid literal for int() with base 10: '[0-9]{1,3}(\\\\.[0-9]{1,3}){3}'",
     "output_type": "error",
     "traceback": [
      "\u001b[1;31m---------------------------------------------------------------------------\u001b[0m",
      "\u001b[1;31mValueError\u001b[0m                                Traceback (most recent call last)",
      "\u001b[1;32m~\\AppData\\Local\\Temp\\ipykernel_12740\\3507025926.py\u001b[0m in \u001b[0;36m<module>\u001b[1;34m\u001b[0m\n\u001b[0;32m      9\u001b[0m \u001b[1;33m\u001b[0m\u001b[0m\n\u001b[0;32m     10\u001b[0m \u001b[1;31m# Input\u001b[0m\u001b[1;33m\u001b[0m\u001b[1;33m\u001b[0m\u001b[1;33m\u001b[0m\u001b[0m\n\u001b[1;32m---> 11\u001b[1;33m \u001b[0mt\u001b[0m \u001b[1;33m=\u001b[0m \u001b[0mint\u001b[0m\u001b[1;33m(\u001b[0m\u001b[0minput\u001b[0m\u001b[1;33m(\u001b[0m\u001b[1;33m)\u001b[0m\u001b[1;33m)\u001b[0m\u001b[1;33m\u001b[0m\u001b[1;33m\u001b[0m\u001b[0m\n\u001b[0m\u001b[0;32m     12\u001b[0m \u001b[1;32mfor\u001b[0m \u001b[0m_\u001b[0m \u001b[1;32min\u001b[0m \u001b[0mrange\u001b[0m\u001b[1;33m(\u001b[0m\u001b[0mt\u001b[0m\u001b[1;33m)\u001b[0m\u001b[1;33m:\u001b[0m\u001b[1;33m\u001b[0m\u001b[1;33m\u001b[0m\u001b[0m\n\u001b[0;32m     13\u001b[0m     \u001b[0ms\u001b[0m \u001b[1;33m=\u001b[0m \u001b[0minput\u001b[0m\u001b[1;33m(\u001b[0m\u001b[1;33m)\u001b[0m\u001b[1;33m\u001b[0m\u001b[1;33m\u001b[0m\u001b[0m\n",
      "\u001b[1;31mValueError\u001b[0m: invalid literal for int() with base 10: '[0-9]{1,3}(\\\\.[0-9]{1,3}){3}'"
     ]
    }
   ],
   "source": [
    "import re\n",
    "\n",
    "def is_valid_regex(s):\n",
    "    try:\n",
    "        re.compile(s)\n",
    "        return True\n",
    "    except re.error:\n",
    "        return False\n",
    "\n",
    "# Input\n",
    "t = int(input())\n",
    "for _ in range(t):\n",
    "    s = input()\n",
    "    print(is_valid_regex(s))\n"
   ]
  },
  {
   "cell_type": "code",
   "execution_count": null,
   "id": "b2487ec8",
   "metadata": {},
   "outputs": [],
   "source": [
    "Read input from STDIN"
   ]
  }
 ],
 "metadata": {
  "kernelspec": {
   "display_name": "Python 3 (ipykernel)",
   "language": "python",
   "name": "python3"
  },
  "language_info": {
   "codemirror_mode": {
    "name": "ipython",
    "version": 3
   },
   "file_extension": ".py",
   "mimetype": "text/x-python",
   "name": "python",
   "nbconvert_exporter": "python",
   "pygments_lexer": "ipython3",
   "version": "3.7.1"
  },
  "varInspector": {
   "cols": {
    "lenName": 16,
    "lenType": 16,
    "lenVar": 40
   },
   "kernels_config": {
    "python": {
     "delete_cmd_postfix": "",
     "delete_cmd_prefix": "del ",
     "library": "var_list.py",
     "varRefreshCmd": "print(var_dic_list())"
    },
    "r": {
     "delete_cmd_postfix": ") ",
     "delete_cmd_prefix": "rm(",
     "library": "var_list.r",
     "varRefreshCmd": "cat(var_dic_list()) "
    }
   },
   "types_to_exclude": [
    "module",
    "function",
    "builtin_function_or_method",
    "instance",
    "_Feature"
   ],
   "window_display": false
  }
 },
 "nbformat": 4,
 "nbformat_minor": 5
}
