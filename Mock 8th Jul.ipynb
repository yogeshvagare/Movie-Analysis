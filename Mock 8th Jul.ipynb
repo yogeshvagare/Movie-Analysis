{
 "cells": [
  {
   "cell_type": "code",
   "execution_count": null,
   "id": "5eac6153",
   "metadata": {},
   "outputs": [],
   "source": []
  },
  {
   "cell_type": "code",
   "execution_count": 2,
   "id": "6bdbf87d",
   "metadata": {},
   "outputs": [],
   "source": [
    "l1=[1,2,3]"
   ]
  },
  {
   "cell_type": "code",
   "execution_count": 7,
   "id": "7448eb39",
   "metadata": {},
   "outputs": [],
   "source": [
    "l2=l1[:]"
   ]
  },
  {
   "cell_type": "code",
   "execution_count": 8,
   "id": "4d5d3526",
   "metadata": {},
   "outputs": [
    {
     "data": {
      "text/plain": [
       "[1, 2, 3]"
      ]
     },
     "execution_count": 8,
     "metadata": {},
     "output_type": "execute_result"
    }
   ],
   "source": [
    "l2"
   ]
  },
  {
   "cell_type": "code",
   "execution_count": 9,
   "id": "e88ec6ce",
   "metadata": {},
   "outputs": [
    {
     "data": {
      "text/plain": [
       "True"
      ]
     },
     "execution_count": 9,
     "metadata": {},
     "output_type": "execute_result"
    }
   ],
   "source": [
    "l1==l2"
   ]
  },
  {
   "cell_type": "code",
   "execution_count": 10,
   "id": "ea35545f",
   "metadata": {},
   "outputs": [
    {
     "data": {
      "text/plain": [
       "False"
      ]
     },
     "execution_count": 10,
     "metadata": {},
     "output_type": "execute_result"
    }
   ],
   "source": [
    "l1 is l2"
   ]
  },
  {
   "cell_type": "code",
   "execution_count": 11,
   "id": "9205ae61",
   "metadata": {},
   "outputs": [],
   "source": [
    "l1_copy=l1.copy()"
   ]
  },
  {
   "cell_type": "code",
   "execution_count": 12,
   "id": "cea37c28",
   "metadata": {},
   "outputs": [
    {
     "data": {
      "text/plain": [
       "[1, 2, 3]"
      ]
     },
     "execution_count": 12,
     "metadata": {},
     "output_type": "execute_result"
    }
   ],
   "source": [
    "l1"
   ]
  },
  {
   "cell_type": "code",
   "execution_count": 13,
   "id": "f28d7317",
   "metadata": {},
   "outputs": [
    {
     "data": {
      "text/plain": [
       "[1, 2, 3]"
      ]
     },
     "execution_count": 13,
     "metadata": {},
     "output_type": "execute_result"
    }
   ],
   "source": [
    "l1_copy"
   ]
  },
  {
   "cell_type": "code",
   "execution_count": 14,
   "id": "775a8b10",
   "metadata": {},
   "outputs": [],
   "source": [
    "l1_copy.insert(2,100)"
   ]
  },
  {
   "cell_type": "code",
   "execution_count": 15,
   "id": "1d664be3",
   "metadata": {},
   "outputs": [
    {
     "data": {
      "text/plain": [
       "[1, 2, 100, 3]"
      ]
     },
     "execution_count": 15,
     "metadata": {},
     "output_type": "execute_result"
    }
   ],
   "source": [
    "l1_copy"
   ]
  },
  {
   "cell_type": "code",
   "execution_count": 16,
   "id": "38724d51",
   "metadata": {},
   "outputs": [
    {
     "data": {
      "text/plain": [
       "[1, 2, 3]"
      ]
     },
     "execution_count": 16,
     "metadata": {},
     "output_type": "execute_result"
    }
   ],
   "source": [
    "l1"
   ]
  },
  {
   "cell_type": "code",
   "execution_count": 20,
   "id": "e543dfc8",
   "metadata": {},
   "outputs": [],
   "source": [
    "l1_deep=deepcopy(l1)"
   ]
  },
  {
   "cell_type": "code",
   "execution_count": 18,
   "id": "696ec627",
   "metadata": {},
   "outputs": [],
   "source": [
    "from copy import deepcopy"
   ]
  },
  {
   "cell_type": "code",
   "execution_count": 21,
   "id": "74a685d9",
   "metadata": {},
   "outputs": [
    {
     "data": {
      "text/plain": [
       "[1, 2, 3]"
      ]
     },
     "execution_count": 21,
     "metadata": {},
     "output_type": "execute_result"
    }
   ],
   "source": [
    "l1_deep"
   ]
  },
  {
   "cell_type": "code",
   "execution_count": 22,
   "id": "21926796",
   "metadata": {},
   "outputs": [
    {
     "data": {
      "text/plain": [
       "[1, 2, 3]"
      ]
     },
     "execution_count": 22,
     "metadata": {},
     "output_type": "execute_result"
    }
   ],
   "source": [
    "l1"
   ]
  },
  {
   "cell_type": "code",
   "execution_count": 23,
   "id": "5217d333",
   "metadata": {},
   "outputs": [],
   "source": [
    "l1_deep.insert(0,200)"
   ]
  },
  {
   "cell_type": "code",
   "execution_count": 24,
   "id": "4835671d",
   "metadata": {},
   "outputs": [
    {
     "data": {
      "text/plain": [
       "[200, 1, 2, 3]"
      ]
     },
     "execution_count": 24,
     "metadata": {},
     "output_type": "execute_result"
    }
   ],
   "source": [
    "l1_deep"
   ]
  },
  {
   "cell_type": "code",
   "execution_count": 25,
   "id": "a854f625",
   "metadata": {},
   "outputs": [
    {
     "data": {
      "text/plain": [
       "[1, 2, 3]"
      ]
     },
     "execution_count": 25,
     "metadata": {},
     "output_type": "execute_result"
    }
   ],
   "source": [
    "l1"
   ]
  },
  {
   "cell_type": "code",
   "execution_count": 26,
   "id": "1933a562",
   "metadata": {},
   "outputs": [],
   "source": [
    "l2=[[1,2,3],[11,22,33]]"
   ]
  },
  {
   "cell_type": "code",
   "execution_count": 27,
   "id": "b9c1368a",
   "metadata": {},
   "outputs": [],
   "source": [
    "shall=l2.copy()"
   ]
  },
  {
   "cell_type": "code",
   "execution_count": 28,
   "id": "1a0d3355",
   "metadata": {},
   "outputs": [
    {
     "data": {
      "text/plain": [
       "[[1, 2, 3], [11, 22, 33]]"
      ]
     },
     "execution_count": 28,
     "metadata": {},
     "output_type": "execute_result"
    }
   ],
   "source": [
    "shall"
   ]
  },
  {
   "cell_type": "code",
   "execution_count": 29,
   "id": "5ee64fa3",
   "metadata": {},
   "outputs": [],
   "source": [
    "shall[0].insert(1,55)"
   ]
  },
  {
   "cell_type": "code",
   "execution_count": 30,
   "id": "fe358b25",
   "metadata": {},
   "outputs": [
    {
     "data": {
      "text/plain": [
       "[[1, 55, 2, 3], [11, 22, 33]]"
      ]
     },
     "execution_count": 30,
     "metadata": {},
     "output_type": "execute_result"
    }
   ],
   "source": [
    "shall"
   ]
  },
  {
   "cell_type": "code",
   "execution_count": 31,
   "id": "e59acd02",
   "metadata": {},
   "outputs": [
    {
     "data": {
      "text/plain": [
       "[[1, 55, 2, 3], [11, 22, 33]]"
      ]
     },
     "execution_count": 31,
     "metadata": {},
     "output_type": "execute_result"
    }
   ],
   "source": [
    "l2"
   ]
  },
  {
   "cell_type": "code",
   "execution_count": 36,
   "id": "c3236609",
   "metadata": {},
   "outputs": [],
   "source": [
    "l2.insert(0,[[8,8,8]])"
   ]
  },
  {
   "cell_type": "code",
   "execution_count": 64,
   "id": "9bed7f21",
   "metadata": {},
   "outputs": [],
   "source": [
    "new_l1=[]"
   ]
  },
  {
   "cell_type": "code",
   "execution_count": 65,
   "id": "4aa4865e",
   "metadata": {},
   "outputs": [],
   "source": [
    "def flatten(list1, new_l1):\n",
    "    for i in list1:\n",
    "#         print(i)\n",
    "        if type(i) == list:\n",
    "#             print(type(i))\n",
    "            flatten(i,new_l1)\n",
    "        else:\n",
    "            new_l1.append(i)\n",
    "#         print(new_l1)\n",
    "    return new_l1"
   ]
  },
  {
   "cell_type": "code",
   "execution_count": 67,
   "id": "b21cf341",
   "metadata": {},
   "outputs": [
    {
     "data": {
      "text/plain": [
       "[8, 8, 8, 1, 55, 2, 3, 11, 22, 33]"
      ]
     },
     "execution_count": 67,
     "metadata": {},
     "output_type": "execute_result"
    }
   ],
   "source": [
    "flatten(l2,new_l1)"
   ]
  },
  {
   "cell_type": "code",
   "execution_count": null,
   "id": "bbaad281",
   "metadata": {},
   "outputs": [],
   "source": []
  },
  {
   "cell_type": "code",
   "execution_count": 68,
   "id": "99dea3b7",
   "metadata": {},
   "outputs": [
    {
     "name": "stdout",
     "output_type": "stream",
     "text": [
      "[7, 1, 6, 2, 5, 3, 4]\n"
     ]
    }
   ],
   "source": [
    "l1 = [1, 2, 3, 4, 5, 6, 7]\n",
    "l2 = []\n",
    "\n",
    "start = 0\n",
    "end = len(l1) - 1\n",
    "\n",
    "while start <= end:\n",
    "    if start != end:\n",
    "        l2.append(l1[end])\n",
    "        l2.append(l1[start])\n",
    "    else:\n",
    "        l2.append(l1[start])\n",
    "    start += 1\n",
    "    end -= 1\n",
    "\n",
    "print(l2)"
   ]
  },
  {
   "cell_type": "code",
   "execution_count": 1,
   "id": "e6272ca7",
   "metadata": {},
   "outputs": [],
   "source": [
    "# 1. how is mamory mangage in python\n",
    "# 2. what is dynamically types language\n",
    "# 3. What is PEP8\n",
    "# 4. Genrator (yeild) and iterater\n",
    "# 5. "
   ]
  },
  {
   "cell_type": "code",
   "execution_count": 2,
   "id": "4b66ddf8",
   "metadata": {},
   "outputs": [],
   "source": [
    "l1=[1,2,3,4,5]"
   ]
  },
  {
   "cell_type": "code",
   "execution_count": 17,
   "id": "48743508",
   "metadata": {},
   "outputs": [],
   "source": [
    "tar=5"
   ]
  },
  {
   "cell_type": "code",
   "execution_count": 19,
   "id": "563827cf",
   "metadata": {},
   "outputs": [],
   "source": [
    "add=[]\n",
    "for i in range(len(l1)):\n",
    "    for j in range(i,len(l1)):\n",
    "        if l1[i]+l1[j]==tar and l1[i] not in add and l1[j] not in add:\n",
    "            add.append((i,j))"
   ]
  },
  {
   "cell_type": "code",
   "execution_count": 21,
   "id": "21850cee",
   "metadata": {},
   "outputs": [
    {
     "data": {
      "text/plain": [
       "[(0, 3), (1, 2)]"
      ]
     },
     "execution_count": 21,
     "metadata": {},
     "output_type": "execute_result"
    }
   ],
   "source": [
    "add"
   ]
  },
  {
   "cell_type": "markdown",
   "id": "d6719eb6",
   "metadata": {},
   "source": [
    "#  11 July 2025"
   ]
  },
  {
   "cell_type": "code",
   "execution_count": 2,
   "id": "b6f139f9",
   "metadata": {},
   "outputs": [],
   "source": [
    "text = \"\"\"This is a python class\"\"\""
   ]
  },
  {
   "cell_type": "code",
   "execution_count": null,
   "id": "85df0541",
   "metadata": {},
   "outputs": [],
   "source": []
  },
  {
   "cell_type": "code",
   "execution_count": 3,
   "id": "fa4a2b59",
   "metadata": {},
   "outputs": [],
   "source": [
    "import os "
   ]
  },
  {
   "cell_type": "code",
   "execution_count": 18,
   "id": "fd7acbd2",
   "metadata": {},
   "outputs": [],
   "source": [
    "with open('abc.txt','r') as file:\n",
    "    a=file.read()"
   ]
  },
  {
   "cell_type": "code",
   "execution_count": 19,
   "id": "6de8b588",
   "metadata": {},
   "outputs": [
    {
     "name": "stdout",
     "output_type": "stream",
     "text": [
      "This is Python\n"
     ]
    }
   ],
   "source": [
    "print(a)"
   ]
  },
  {
   "cell_type": "code",
   "execution_count": 20,
   "id": "7be0542b",
   "metadata": {},
   "outputs": [],
   "source": [
    "# data Types:\n",
    "#     string\n",
    "#     List\n",
    "#     Tuple\n",
    "#     dict\n",
    "#     set\n",
    "#     frozen set\n",
    "\n",
    "# Pandas\n",
    "# Numpy\n",
    "# regex\n",
    "# datetime\n",
    "# file handling\n",
    "# oops\n",
    "# %matplotlib\n",
    "# seaborn\n",
    "# plypot\n",
    "# EDA:\n",
    "#     feature engineering\n",
    "#     featuer selection\n",
    "#     null value treatment \n",
    "#     outliers \n",
    "#     Hypothesis testing\n",
    "    \n",
    "    \n",
    "# Python Developoer:\n",
    "#     Framework : FastAPI, Flask django"
   ]
  },
  {
   "cell_type": "code",
   "execution_count": 40,
   "id": "ac441653",
   "metadata": {},
   "outputs": [],
   "source": [
    "nums1 = [1,2,3,0,0,0]\n",
    "m=3\n",
    "nums2 = [2,5,6]\n",
    "n = 3\n",
    "# Output: [1,2,2,3,5,6]"
   ]
  },
  {
   "cell_type": "code",
   "execution_count": 38,
   "id": "aa24ecad",
   "metadata": {},
   "outputs": [
    {
     "name": "stdout",
     "output_type": "stream",
     "text": [
      "[1, 2, 3]\n",
      "2\n",
      "5\n",
      "6\n"
     ]
    }
   ],
   "source": [
    "nums1=nums1[:n]\n",
    "for i in nums2:\n",
    "    nums1.append(i)\n",
    "nums1=sorted(nums1)"
   ]
  },
  {
   "cell_type": "code",
   "execution_count": 39,
   "id": "05e8aba5",
   "metadata": {},
   "outputs": [
    {
     "data": {
      "text/plain": [
       "[1, 2, 2, 3, 5, 6]"
      ]
     },
     "execution_count": 39,
     "metadata": {},
     "output_type": "execute_result"
    }
   ],
   "source": [
    "nums1"
   ]
  },
  {
   "cell_type": "code",
   "execution_count": null,
   "id": "155e3bd4",
   "metadata": {},
   "outputs": [],
   "source": [
    "for i in range(m)"
   ]
  }
 ],
 "metadata": {
  "kernelspec": {
   "display_name": "Python 3 (ipykernel)",
   "language": "python",
   "name": "python3"
  },
  "language_info": {
   "codemirror_mode": {
    "name": "ipython",
    "version": 3
   },
   "file_extension": ".py",
   "mimetype": "text/x-python",
   "name": "python",
   "nbconvert_exporter": "python",
   "pygments_lexer": "ipython3",
   "version": "3.7.1"
  },
  "varInspector": {
   "cols": {
    "lenName": 16,
    "lenType": 16,
    "lenVar": 40
   },
   "kernels_config": {
    "python": {
     "delete_cmd_postfix": "",
     "delete_cmd_prefix": "del ",
     "library": "var_list.py",
     "varRefreshCmd": "print(var_dic_list())"
    },
    "r": {
     "delete_cmd_postfix": ") ",
     "delete_cmd_prefix": "rm(",
     "library": "var_list.r",
     "varRefreshCmd": "cat(var_dic_list()) "
    }
   },
   "types_to_exclude": [
    "module",
    "function",
    "builtin_function_or_method",
    "instance",
    "_Feature"
   ],
   "window_display": false
  }
 },
 "nbformat": 4,
 "nbformat_minor": 5
}
