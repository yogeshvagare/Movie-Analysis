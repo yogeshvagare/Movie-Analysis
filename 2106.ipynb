{
 "cells": [
  {
   "cell_type": "code",
   "execution_count": 1,
   "id": "c5dfacc2",
   "metadata": {},
   "outputs": [],
   "source": [
    "d1={'A':23,'B':34}"
   ]
  },
  {
   "cell_type": "code",
   "execution_count": 2,
   "id": "41a3d164",
   "metadata": {},
   "outputs": [],
   "source": [
    "l1=[i for i in d1.keys()]"
   ]
  },
  {
   "cell_type": "code",
   "execution_count": 5,
   "id": "7923df8c",
   "metadata": {},
   "outputs": [],
   "source": [
    "d2={}\n",
    "var='A'\n",
    "for i in l1:\n",
    "    if i==var:\n",
    "        d2['C']=d1[var]\n",
    "    else:\n",
    "        d2[i]=d1[i]"
   ]
  },
  {
   "cell_type": "code",
   "execution_count": 6,
   "id": "c611f71e",
   "metadata": {},
   "outputs": [
    {
     "data": {
      "text/plain": [
       "{'C': 23, 'B': 34}"
      ]
     },
     "execution_count": 6,
     "metadata": {},
     "output_type": "execute_result"
    }
   ],
   "source": [
    "d2"
   ]
  },
  {
   "cell_type": "code",
   "execution_count": 7,
   "id": "1a05a53e",
   "metadata": {},
   "outputs": [],
   "source": [
    "d1.update(d2)"
   ]
  },
  {
   "cell_type": "code",
   "execution_count": 8,
   "id": "cf1bcdef",
   "metadata": {},
   "outputs": [
    {
     "data": {
      "text/plain": [
       "{'A': 23, 'B': 34, 'C': 23}"
      ]
     },
     "execution_count": 8,
     "metadata": {},
     "output_type": "execute_result"
    }
   ],
   "source": [
    "d1"
   ]
  },
  {
   "cell_type": "code",
   "execution_count": 9,
   "id": "597574c5",
   "metadata": {},
   "outputs": [],
   "source": [
    "l1=[1,2,3]\n",
    "l2=[4,5]"
   ]
  },
  {
   "cell_type": "code",
   "execution_count": 11,
   "id": "54a076f8",
   "metadata": {},
   "outputs": [],
   "source": [
    "l1.append(l2)"
   ]
  },
  {
   "cell_type": "code",
   "execution_count": 12,
   "id": "f3863fbc",
   "metadata": {},
   "outputs": [
    {
     "data": {
      "text/plain": [
       "[1, 2, 3, [4, 5]]"
      ]
     },
     "execution_count": 12,
     "metadata": {},
     "output_type": "execute_result"
    }
   ],
   "source": [
    "l1"
   ]
  },
  {
   "cell_type": "code",
   "execution_count": 13,
   "id": "5f2e2a30",
   "metadata": {},
   "outputs": [],
   "source": [
    "l1.extend(l2)"
   ]
  },
  {
   "cell_type": "code",
   "execution_count": 14,
   "id": "fa2400c8",
   "metadata": {},
   "outputs": [
    {
     "data": {
      "text/plain": [
       "[1, 2, 3, [4, 5], 4, 5]"
      ]
     },
     "execution_count": 14,
     "metadata": {},
     "output_type": "execute_result"
    }
   ],
   "source": [
    "l1"
   ]
  },
  {
   "cell_type": "code",
   "execution_count": 15,
   "id": "c18594de",
   "metadata": {},
   "outputs": [],
   "source": [
    "names = ['Alice', 'Bob', 'Charlie']"
   ]
  },
  {
   "cell_type": "code",
   "execution_count": 18,
   "id": "b2abd1af",
   "metadata": {},
   "outputs": [],
   "source": [
    "d1={i:len(i) for i in names}"
   ]
  },
  {
   "cell_type": "code",
   "execution_count": 19,
   "id": "72702584",
   "metadata": {},
   "outputs": [
    {
     "data": {
      "text/plain": [
       "{'Alice': 5, 'Bob': 3, 'Charlie': 7}"
      ]
     },
     "execution_count": 19,
     "metadata": {},
     "output_type": "execute_result"
    }
   ],
   "source": [
    "d1"
   ]
  },
  {
   "cell_type": "code",
   "execution_count": 26,
   "id": "66fa8f8c",
   "metadata": {},
   "outputs": [],
   "source": [
    "n=9\n",
    "m=21\n",
    "comm_div=[]\n",
    "for i in range(1,n):\n",
    "    div=0\n",
    "    if n%i==0:\n",
    "        div=i\n",
    "    for j in range(1,m):\n",
    "        if m%j==0 and div==j:\n",
    "            comm_div.append(i)"
   ]
  },
  {
   "cell_type": "code",
   "execution_count": 27,
   "id": "49ab99c5",
   "metadata": {},
   "outputs": [
    {
     "data": {
      "text/plain": [
       "[1, 3]"
      ]
     },
     "execution_count": 27,
     "metadata": {},
     "output_type": "execute_result"
    }
   ],
   "source": [
    "comm_div"
   ]
  },
  {
   "cell_type": "code",
   "execution_count": 34,
   "id": "0afaa8bd",
   "metadata": {},
   "outputs": [],
   "source": [
    "# optimized\n",
    "n=9\n",
    "m=21\n",
    "comm_div=[]\n",
    "for i in range(1,min(m,n)):\n",
    "    if m%i==0 and n%i==0:\n",
    "        comm_div.append(i)"
   ]
  },
  {
   "cell_type": "code",
   "execution_count": 35,
   "id": "83ccc2ba",
   "metadata": {},
   "outputs": [
    {
     "data": {
      "text/plain": [
       "[1, 3]"
      ]
     },
     "execution_count": 35,
     "metadata": {},
     "output_type": "execute_result"
    }
   ],
   "source": [
    "comm_div"
   ]
  },
  {
   "cell_type": "code",
   "execution_count": null,
   "id": "9caefeb7",
   "metadata": {},
   "outputs": [],
   "source": [
    "3. Python dictionary, set and counter to check if frequencies can become the same.\n",
    " Input  : str = \"xyyz\"\n",
    " Output : Yes\n",
    " We can remove character 'y' from above string to make the frequency of each\n",
    " character   same.\n",
    " Input : str = \"xxxxyyzz\"\n",
    " Output : No\n",
    " It is not possible to make the frequency of each character the same just by removing\n",
    " at most one character from the above string"
   ]
  },
  {
   "cell_type": "code",
   "execution_count": 82,
   "id": "b67b6d2c",
   "metadata": {},
   "outputs": [],
   "source": [
    "str1='xyyz'"
   ]
  },
  {
   "cell_type": "code",
   "execution_count": 83,
   "id": "abcd8f8c",
   "metadata": {},
   "outputs": [],
   "source": [
    "from collections import Counter"
   ]
  },
  {
   "cell_type": "code",
   "execution_count": 84,
   "id": "29a0ac23",
   "metadata": {},
   "outputs": [],
   "source": [
    "c1=Counter(str1)"
   ]
  },
  {
   "cell_type": "code",
   "execution_count": 85,
   "id": "23a303d7",
   "metadata": {},
   "outputs": [
    {
     "data": {
      "text/plain": [
       "Counter({'x': 1, 'y': 2, 'z': 1})"
      ]
     },
     "execution_count": 85,
     "metadata": {},
     "output_type": "execute_result"
    }
   ],
   "source": [
    "c1"
   ]
  },
  {
   "cell_type": "code",
   "execution_count": 86,
   "id": "63e07b39",
   "metadata": {},
   "outputs": [],
   "source": [
    "val_ca=list(Counter(c1.values()))"
   ]
  },
  {
   "cell_type": "code",
   "execution_count": 87,
   "id": "e9e3853d",
   "metadata": {},
   "outputs": [
    {
     "data": {
      "text/plain": [
       "[1, 2]"
      ]
     },
     "execution_count": 87,
     "metadata": {},
     "output_type": "execute_result"
    }
   ],
   "source": [
    "val_ca"
   ]
  },
  {
   "cell_type": "code",
   "execution_count": 88,
   "id": "6dca25a3",
   "metadata": {},
   "outputs": [
    {
     "name": "stdout",
     "output_type": "stream",
     "text": [
      "Yes, can remove\n"
     ]
    }
   ],
   "source": [
    "if len(val_ca)==1:\n",
    "    print('Yes, no need remove')\n",
    "elif len(val_ca)==2 and (val_ca[0]+1==val_ca[1] or val_ca[0]-1==val_ca[1]):\n",
    "        print('Yes, can remove')\n",
    "else:print('No')"
   ]
  },
  {
   "cell_type": "code",
   "execution_count": null,
   "id": "fa5c5be0",
   "metadata": {},
   "outputs": [],
   "source": []
  },
  {
   "cell_type": "code",
   "execution_count": null,
   "id": "c4369244",
   "metadata": {},
   "outputs": [],
   "source": []
  }
 ],
 "metadata": {
  "kernelspec": {
   "display_name": "Python 3 (ipykernel)",
   "language": "python",
   "name": "python3"
  },
  "language_info": {
   "codemirror_mode": {
    "name": "ipython",
    "version": 3
   },
   "file_extension": ".py",
   "mimetype": "text/x-python",
   "name": "python",
   "nbconvert_exporter": "python",
   "pygments_lexer": "ipython3",
   "version": "3.7.1"
  },
  "varInspector": {
   "cols": {
    "lenName": 16,
    "lenType": 16,
    "lenVar": 40
   },
   "kernels_config": {
    "python": {
     "delete_cmd_postfix": "",
     "delete_cmd_prefix": "del ",
     "library": "var_list.py",
     "varRefreshCmd": "print(var_dic_list())"
    },
    "r": {
     "delete_cmd_postfix": ") ",
     "delete_cmd_prefix": "rm(",
     "library": "var_list.r",
     "varRefreshCmd": "cat(var_dic_list()) "
    }
   },
   "types_to_exclude": [
    "module",
    "function",
    "builtin_function_or_method",
    "instance",
    "_Feature"
   ],
   "window_display": false
  }
 },
 "nbformat": 4,
 "nbformat_minor": 5
}
