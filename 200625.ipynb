{
 "cells": [
  {
   "cell_type": "markdown",
   "id": "20f17158",
   "metadata": {},
   "source": [
    "## Insertion sort  section "
   ]
  },
  {
   "cell_type": "markdown",
   "id": "fd0ffb4c",
   "metadata": {},
   "source": [
    "    Insertion Sort is a simple and intuitive comparison-based sorting algorithm.\n",
    "\n",
    "    Insertion sort is a simple, comparison-based sorting algorithm \n",
    "    that builds the final sorted array (or list) one item at a time. \n",
    "\n",
    "    It is efficient for small data sets and works by iteratively inserting each element \n",
    "    from the unsorted portion of the list into its correct position within the already sorted portion. \n",
    "\n",
    "🔹 How It Works:\n",
    "\n",
    "    1.Start with the second element (assume the first one is sorted).\n",
    "    \n",
    "    2.Compare it with the elements before it.\n",
    "    \n",
    "    3. Insert it into its correct position in the sorted portion of the list.\n",
    "    \n",
    "    4. Repeat for all elements.\n"
   ]
  },
  {
   "cell_type": "code",
   "execution_count": null,
   "id": "3fe5a5ed",
   "metadata": {},
   "outputs": [],
   "source": [
    "arr=[5,6,4,3,7,1]"
   ]
  },
  {
   "cell_type": "code",
   "execution_count": 2,
   "id": "c3f2d6a2",
   "metadata": {},
   "outputs": [],
   "source": [
    "for i in range(1,len(arr)):\n",
    "    key=arr[i]\n",
    "    j=i-1\n",
    "    while j>=0 and key < arr[j]:\n",
    "        arr[j+1]=arr[j]\n",
    "        j-=1\n",
    "    arr[j+1] = key"
   ]
  },
  {
   "cell_type": "code",
   "execution_count": 3,
   "id": "bc50d30a",
   "metadata": {},
   "outputs": [
    {
     "data": {
      "text/plain": [
       "[1, 3, 4, 5, 6, 7]"
      ]
     },
     "execution_count": 3,
     "metadata": {},
     "output_type": "execute_result"
    }
   ],
   "source": [
    "arr"
   ]
  },
  {
   "cell_type": "code",
   "execution_count": 4,
   "id": "6b65d069",
   "metadata": {},
   "outputs": [],
   "source": [
    "for i in range(1, len(arr)):\n",
    "    key=arr[i]\n",
    "    j=i-1\n",
    "    while j>=0 and key < arr[j]:\n",
    "        arr[j+1]=arr[j]\n",
    "        j-=1\n",
    "    arr[j+1] = key"
   ]
  },
  {
   "cell_type": "code",
   "execution_count": null,
   "id": "bcfe54af",
   "metadata": {},
   "outputs": [],
   "source": [
    "🟡 Selection Sort in Python"
   ]
  },
  {
   "cell_type": "code",
   "execution_count": null,
   "id": "6feb1fd0",
   "metadata": {},
   "outputs": [],
   "source": [
    "\n",
    "Selection Sort is another simple sorting algorithm. \n",
    "It repeatedly selects the smallest (or largest) element from the unsorted part and moves it to the sorted part.\n",
    "\n",
    "🔹 How It Works:\n",
    "Start from index 0.\n",
    "\n",
    "Find the smallest element in the rest of the array.\n",
    "\n",
    "Swap it with the element at the current index.\n",
    "\n",
    "Repeat for all indices.\n",
    "\n"
   ]
  },
  {
   "cell_type": "code",
   "execution_count": 6,
   "id": "06258069",
   "metadata": {},
   "outputs": [],
   "source": [
    "arr=[4,6,8,4,3,2]"
   ]
  },
  {
   "cell_type": "code",
   "execution_count": 7,
   "id": "6d10d3c1",
   "metadata": {},
   "outputs": [],
   "source": [
    "for i in range(len(arr)):\n",
    "    min_index=i\n",
    "    for j in range(i+1, len(arr)):\n",
    "        if arr[j] < arr[min_index]:\n",
    "            min_index=j\n",
    "    arr[i], arr[min_index]=arr[min_index],arr[i]"
   ]
  },
  {
   "cell_type": "code",
   "execution_count": 8,
   "id": "3cb0a1df",
   "metadata": {},
   "outputs": [
    {
     "data": {
      "text/plain": [
       "[2, 3, 4, 4, 6, 8]"
      ]
     },
     "execution_count": 8,
     "metadata": {},
     "output_type": "execute_result"
    }
   ],
   "source": [
    "arr"
   ]
  },
  {
   "cell_type": "code",
   "execution_count": 9,
   "id": "1929d9f7",
   "metadata": {},
   "outputs": [],
   "source": [
    "arr=[4,6,8,4,3,2]"
   ]
  },
  {
   "cell_type": "code",
   "execution_count": 12,
   "id": "b3df1558",
   "metadata": {},
   "outputs": [
    {
     "ename": "IndexError",
     "evalue": "list index out of range",
     "output_type": "error",
     "traceback": [
      "\u001b[1;31m---------------------------------------------------------------------------\u001b[0m",
      "\u001b[1;31mIndexError\u001b[0m                                Traceback (most recent call last)",
      "\u001b[1;32m~\\AppData\\Local\\Temp\\ipykernel_18504\\4253502547.py\u001b[0m in \u001b[0;36m<module>\u001b[1;34m\u001b[0m\n\u001b[0;32m      1\u001b[0m \u001b[1;32mfor\u001b[0m \u001b[0mi\u001b[0m \u001b[1;32min\u001b[0m \u001b[0mrange\u001b[0m\u001b[1;33m(\u001b[0m\u001b[0mlen\u001b[0m\u001b[1;33m(\u001b[0m\u001b[0marr\u001b[0m\u001b[1;33m)\u001b[0m\u001b[1;33m)\u001b[0m\u001b[1;33m:\u001b[0m\u001b[1;33m\u001b[0m\u001b[1;33m\u001b[0m\u001b[0m\n\u001b[1;32m----> 2\u001b[1;33m     \u001b[1;32mif\u001b[0m \u001b[0marr\u001b[0m\u001b[1;33m[\u001b[0m\u001b[0mi\u001b[0m\u001b[1;33m]\u001b[0m \u001b[1;33m>\u001b[0m \u001b[0marr\u001b[0m\u001b[1;33m[\u001b[0m\u001b[0mi\u001b[0m\u001b[1;33m+\u001b[0m\u001b[1;36m1\u001b[0m\u001b[1;33m]\u001b[0m\u001b[1;33m:\u001b[0m\u001b[1;33m\u001b[0m\u001b[1;33m\u001b[0m\u001b[0m\n\u001b[0m\u001b[0;32m      3\u001b[0m         \u001b[0marr\u001b[0m\u001b[1;33m[\u001b[0m\u001b[0mi\u001b[0m\u001b[1;33m]\u001b[0m\u001b[1;33m,\u001b[0m\u001b[0marr\u001b[0m\u001b[1;33m[\u001b[0m\u001b[0mi\u001b[0m\u001b[1;33m+\u001b[0m\u001b[1;36m1\u001b[0m\u001b[1;33m]\u001b[0m\u001b[1;33m=\u001b[0m\u001b[0marr\u001b[0m\u001b[1;33m[\u001b[0m\u001b[0mi\u001b[0m\u001b[1;33m+\u001b[0m\u001b[1;36m1\u001b[0m\u001b[1;33m]\u001b[0m\u001b[1;33m,\u001b[0m\u001b[0marr\u001b[0m\u001b[1;33m[\u001b[0m\u001b[0mi\u001b[0m\u001b[1;33m]\u001b[0m\u001b[1;33m\u001b[0m\u001b[1;33m\u001b[0m\u001b[0m\n\u001b[0;32m      4\u001b[0m     \u001b[1;32melse\u001b[0m\u001b[1;33m:\u001b[0m\u001b[1;33m\u001b[0m\u001b[1;33m\u001b[0m\u001b[0m\n\u001b[0;32m      5\u001b[0m         \u001b[1;32mpass\u001b[0m\u001b[1;33m\u001b[0m\u001b[1;33m\u001b[0m\u001b[0m\n",
      "\u001b[1;31mIndexError\u001b[0m: list index out of range"
     ]
    }
   ],
   "source": [
    "for i in range(len(arr)):\n",
    "    if arr[i] > arr[i+1]:\n",
    "        arr[i],arr[i+1]=arr[i+1],arr[i]\n",
    "    else:\n",
    "        pass"
   ]
  },
  {
   "cell_type": "code",
   "execution_count": 11,
   "id": "4bb25c45",
   "metadata": {},
   "outputs": [
    {
     "data": {
      "text/plain": [
       "[2, 4, 6, 4, 3, 8]"
      ]
     },
     "execution_count": 11,
     "metadata": {},
     "output_type": "execute_result"
    }
   ],
   "source": [
    "arr"
   ]
  },
  {
   "cell_type": "code",
   "execution_count": null,
   "id": "c68a6d8a",
   "metadata": {},
   "outputs": [],
   "source": []
  }
 ],
 "metadata": {
  "kernelspec": {
   "display_name": "Python 3 (ipykernel)",
   "language": "python",
   "name": "python3"
  },
  "language_info": {
   "codemirror_mode": {
    "name": "ipython",
    "version": 3
   },
   "file_extension": ".py",
   "mimetype": "text/x-python",
   "name": "python",
   "nbconvert_exporter": "python",
   "pygments_lexer": "ipython3",
   "version": "3.7.1"
  },
  "varInspector": {
   "cols": {
    "lenName": 16,
    "lenType": 16,
    "lenVar": 40
   },
   "kernels_config": {
    "python": {
     "delete_cmd_postfix": "",
     "delete_cmd_prefix": "del ",
     "library": "var_list.py",
     "varRefreshCmd": "print(var_dic_list())"
    },
    "r": {
     "delete_cmd_postfix": ") ",
     "delete_cmd_prefix": "rm(",
     "library": "var_list.r",
     "varRefreshCmd": "cat(var_dic_list()) "
    }
   },
   "types_to_exclude": [
    "module",
    "function",
    "builtin_function_or_method",
    "instance",
    "_Feature"
   ],
   "window_display": false
  }
 },
 "nbformat": 4,
 "nbformat_minor": 5
}
